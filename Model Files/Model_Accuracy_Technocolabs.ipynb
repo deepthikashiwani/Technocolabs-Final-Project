{
  "nbformat": 4,
  "nbformat_minor": 0,
  "metadata": {
    "colab": {
      "name": "Copy of Model Accuracy Technocolabs.ipynb",
      "provenance": [],
      "collapsed_sections": [],
      "toc_visible": true,
      "machine_shape": "hm",
      "include_colab_link": true
    },
    "kernelspec": {
      "name": "python3",
      "display_name": "Python 3"
    },
    "accelerator": "GPU"
  },
  "cells": [
    {
      "cell_type": "markdown",
      "metadata": {
        "id": "view-in-github",
        "colab_type": "text"
      },
      "source": [
        "<a href=\"https://colab.research.google.com/github/shivamchoudhury06/Technocolabs_Internship/blob/main/Model_Accuracy_Technocolabs.ipynb\" target=\"_parent\"><img src=\"https://colab.research.google.com/assets/colab-badge.svg\" alt=\"Open In Colab\"/></a>"
      ]
    },
    {
      "cell_type": "markdown",
      "metadata": {
        "id": "4cbgwZWWfWpp"
      },
      "source": [
        "# New Section"
      ]
    },
    {
      "cell_type": "markdown",
      "metadata": {
        "id": "LHVs0XElUsU0"
      },
      "source": [
        "**In this file we are Trying to get the accuracy and score of the model**"
      ]
    },
    {
      "cell_type": "code",
      "metadata": {
        "id": "tAb77yZ9fzMG"
      },
      "source": [
        "# #Importing Data Analysis Libraries\r\n",
        "import pandas as pd\r\n",
        "import numpy as np\r\n",
        "from tqdm import tqdm\r\n",
        "\r\n",
        "import re\r\n",
        "import pickle\r\n",
        "\r\n",
        "# #Importing Natural Language Libraries\r\n",
        "import nltk\r\n",
        "from sklearn.feature_extraction.text import TfidfVectorizer\r\n",
        "from sklearn.feature_extraction.text import CountVectorizer\r\n",
        "from gensim.models import Word2Vec\r\n",
        "\r\n",
        "# # Importing Keras for Word Embedding\r\n",
        "from tensorflow.keras.layers import Embedding\r\n",
        "from tensorflow.keras.preprocessing.sequence import pad_sequences\r\n",
        "from tensorflow.keras.models import Sequential\r\n",
        "from tensorflow.keras.preprocessing.text import one_hot\r\n",
        "from tensorflow.keras.layers import LSTM\r\n",
        "from tensorflow.keras.layers import Dense\r\n",
        "\r\n",
        "#Importing libraries for Modeling \r\n",
        "from sklearn.model_selection import train_test_split\r\n",
        "from sklearn.linear_model import LogisticRegression\r\n",
        "from sklearn.naive_bayes import GaussianNB\r\n",
        "from sklearn.ensemble import RandomForestClassifier\r\n",
        "from sklearn.svm import SVC\r\n",
        "\r\n",
        "\r\n",
        "#For finding Accuracy\r\n",
        "from sklearn.metrics import confusion_matrix, accuracy_score,classification_report\r\n",
        "\r\n",
        "\r\n"
      ],
      "execution_count": 1,
      "outputs": []
    },
    {
      "cell_type": "code",
      "metadata": {
        "colab": {
          "base_uri": "https://localhost:8080/"
        },
        "id": "GANWLC8icIWt",
        "outputId": "da75e557-b757-4669-a46e-89dce22cbc1a"
      },
      "source": [
        "from google.colab import drive\r\n",
        "drive.mount('/content/drive', force_remount=True)"
      ],
      "execution_count": 2,
      "outputs": [
        {
          "output_type": "stream",
          "text": [
            "Mounted at /content/drive\n"
          ],
          "name": "stdout"
        }
      ]
    },
    {
      "cell_type": "code",
      "metadata": {
        "id": "pafL7Li0jyXW"
      },
      "source": [
        "df=pd.read_csv(\"/content/drive/MyDrive/Colab Notebooks/cleaned_data.csv\",nrows=10000)"
      ],
      "execution_count": 3,
      "outputs": []
    },
    {
      "cell_type": "code",
      "metadata": {
        "id": "3bm0lEd6EpsV",
        "colab": {
          "base_uri": "https://localhost:8080/",
          "height": 195
        },
        "outputId": "411ca9e9-75ef-4bca-9aac-ad6e617fc6bc"
      },
      "source": [
        "df.head()"
      ],
      "execution_count": null,
      "outputs": [
        {
          "output_type": "execute_result",
          "data": {
            "text/html": [
              "<div>\n",
              "<style scoped>\n",
              "    .dataframe tbody tr th:only-of-type {\n",
              "        vertical-align: middle;\n",
              "    }\n",
              "\n",
              "    .dataframe tbody tr th {\n",
              "        vertical-align: top;\n",
              "    }\n",
              "\n",
              "    .dataframe thead th {\n",
              "        text-align: right;\n",
              "    }\n",
              "</style>\n",
              "<table border=\"1\" class=\"dataframe\">\n",
              "  <thead>\n",
              "    <tr style=\"text-align: right;\">\n",
              "      <th></th>\n",
              "      <th>author</th>\n",
              "      <th>content</th>\n",
              "      <th>publish_date</th>\n",
              "      <th>following</th>\n",
              "      <th>followers</th>\n",
              "      <th>updates</th>\n",
              "      <th>post_type</th>\n",
              "      <th>account_type</th>\n",
              "      <th>new_june_2018</th>\n",
              "      <th>retweet</th>\n",
              "      <th>account_category</th>\n",
              "    </tr>\n",
              "  </thead>\n",
              "  <tbody>\n",
              "    <tr>\n",
              "      <th>0</th>\n",
              "      <td>1D_NICOLE_</td>\n",
              "      <td>#FoodPoisoning is not a joke! #Walmart #KochFa...</td>\n",
              "      <td>2015-11-26</td>\n",
              "      <td>48</td>\n",
              "      <td>40</td>\n",
              "      <td>394</td>\n",
              "      <td>RETWEET</td>\n",
              "      <td>Koch</td>\n",
              "      <td>0</td>\n",
              "      <td>1</td>\n",
              "      <td>Fearmonger</td>\n",
              "    </tr>\n",
              "    <tr>\n",
              "      <th>1</th>\n",
              "      <td>1D_NICOLE_</td>\n",
              "      <td>Thanks God that #turkey i ate few days ago was...</td>\n",
              "      <td>2015-11-26</td>\n",
              "      <td>48</td>\n",
              "      <td>40</td>\n",
              "      <td>395</td>\n",
              "      <td>RETWEET</td>\n",
              "      <td>Koch</td>\n",
              "      <td>0</td>\n",
              "      <td>1</td>\n",
              "      <td>Fearmonger</td>\n",
              "    </tr>\n",
              "    <tr>\n",
              "      <th>2</th>\n",
              "      <td>1D_NICOLE_</td>\n",
              "      <td>who's got the worst make up ever, don't tell m...</td>\n",
              "      <td>2015-05-25</td>\n",
              "      <td>59</td>\n",
              "      <td>51</td>\n",
              "      <td>352</td>\n",
              "      <td>NO_ACTION</td>\n",
              "      <td>Koch</td>\n",
              "      <td>0</td>\n",
              "      <td>0</td>\n",
              "      <td>Fearmonger</td>\n",
              "    </tr>\n",
              "    <tr>\n",
              "      <th>3</th>\n",
              "      <td>1D_NICOLE_</td>\n",
              "      <td>I hurt easy, I just don't show it. You can hur...</td>\n",
              "      <td>2015-05-25</td>\n",
              "      <td>59</td>\n",
              "      <td>51</td>\n",
              "      <td>354</td>\n",
              "      <td>NO_ACTION</td>\n",
              "      <td>Koch</td>\n",
              "      <td>0</td>\n",
              "      <td>0</td>\n",
              "      <td>Fearmonger</td>\n",
              "    </tr>\n",
              "    <tr>\n",
              "      <th>4</th>\n",
              "      <td>1D_NICOLE_</td>\n",
              "      <td>« The young are permanently in a state resembl...</td>\n",
              "      <td>2015-05-25</td>\n",
              "      <td>59</td>\n",
              "      <td>51</td>\n",
              "      <td>356</td>\n",
              "      <td>NO_ACTION</td>\n",
              "      <td>Koch</td>\n",
              "      <td>0</td>\n",
              "      <td>0</td>\n",
              "      <td>Fearmonger</td>\n",
              "    </tr>\n",
              "  </tbody>\n",
              "</table>\n",
              "</div>"
            ],
            "text/plain": [
              "       author  ... account_category\n",
              "0  1D_NICOLE_  ...       Fearmonger\n",
              "1  1D_NICOLE_  ...       Fearmonger\n",
              "2  1D_NICOLE_  ...       Fearmonger\n",
              "3  1D_NICOLE_  ...       Fearmonger\n",
              "4  1D_NICOLE_  ...       Fearmonger\n",
              "\n",
              "[5 rows x 11 columns]"
            ]
          },
          "metadata": {
            "tags": []
          },
          "execution_count": 6
        }
      ]
    },
    {
      "cell_type": "code",
      "metadata": {
        "id": "q1LNwTqlE7J2"
      },
      "source": [
        "def dependent_column(a):\r\n",
        "    if a == 'Fearmonger':\r\n",
        "        return 1\r\n",
        "    elif a == \"RightTroll\":\r\n",
        "        return 2\r\n",
        "    elif a == \"LeftTroll\":\r\n",
        "        return 3\r\n",
        "    elif a == 'NonEnglish':\r\n",
        "        return 4\r\n",
        "    elif a == 'Unknown':\r\n",
        "        return 5\r\n",
        "    elif a == 'HashtagGamer':\r\n",
        "        return 6\r\n",
        "    elif a == 'Commercial':\r\n",
        "        return 7\r\n",
        "    elif a == 'NewsFeed':\r\n",
        "        return 8"
      ],
      "execution_count": null,
      "outputs": []
    },
    {
      "cell_type": "code",
      "metadata": {
        "id": "Tf2C_QkTFABK"
      },
      "source": [
        "df[\"account_category_int\"] = df.account_category.apply(dependent_column)"
      ],
      "execution_count": null,
      "outputs": []
    },
    {
      "cell_type": "markdown",
      "metadata": {
        "id": "yDIPcXMUU6Qj"
      },
      "source": [
        "## Text Preprocessing\r\n",
        "**1. Bog-of-Words**\r\n",
        "\r\n",
        "**2. TF-IDF**\r\n",
        "\r\n",
        "\r\n"
      ]
    },
    {
      "cell_type": "code",
      "metadata": {
        "id": "7_JyaUXsFZp1",
        "colab": {
          "base_uri": "https://localhost:8080/"
        },
        "outputId": "b4c8da27-d430-4595-f16f-016049ee8fab"
      },
      "source": [
        "nltk.download('stopwords')"
      ],
      "execution_count": null,
      "outputs": [
        {
          "output_type": "stream",
          "text": [
            "[nltk_data] Downloading package stopwords to /root/nltk_data...\n",
            "[nltk_data]   Unzipping corpora/stopwords.zip.\n"
          ],
          "name": "stdout"
        },
        {
          "output_type": "execute_result",
          "data": {
            "text/plain": [
              "True"
            ]
          },
          "metadata": {
            "tags": []
          },
          "execution_count": 9
        }
      ]
    },
    {
      "cell_type": "code",
      "metadata": {
        "id": "C0k7m-QJFcgy",
        "colab": {
          "base_uri": "https://localhost:8080/"
        },
        "outputId": "473020e4-1afb-4356-dbff-15c3a04ebac9"
      },
      "source": [
        "# 4. Removing Stopwords\r\n",
        "stopwords=nltk.corpus.stopwords.words('english')\r\n",
        "stopwords[1:5]"
      ],
      "execution_count": null,
      "outputs": [
        {
          "output_type": "execute_result",
          "data": {
            "text/plain": [
              "['me', 'my', 'myself', 'we']"
            ]
          },
          "metadata": {
            "tags": []
          },
          "execution_count": 10
        }
      ]
    },
    {
      "cell_type": "code",
      "metadata": {
        "id": "fRZchRCQFS-O",
        "colab": {
          "base_uri": "https://localhost:8080/"
        },
        "outputId": "ff57d593-7a5f-4038-c001-8a69e0202213"
      },
      "source": [
        "# Combining all the above stundents \r\n",
        "preprocessed_text = []\r\n",
        "# tqdm is for printing the status bar\r\n",
        "for sentance in tqdm(df['content'].values):\r\n",
        "    sentance = re.sub(r\"http\\S+\", \"\", sentance)           # HTML Tags\r\n",
        "    sentance = re.sub(\"\\S*\\d\\S*\", \"\", sentance).strip()   # To remove words like @care2 = \" \"\r\n",
        "    sentance = re.sub('[^A-Za-z]+', ' ', sentance)\r\n",
        "    sentance = ' '.join(e.lower() for e in sentance.split() if e.lower() not in stopwords)\r\n",
        "    preprocessed_text.append(sentance.strip())"
      ],
      "execution_count": null,
      "outputs": [
        {
          "output_type": "stream",
          "text": [
            "100%|██████████| 10000/10000 [00:00<00:00, 25761.37it/s]\n"
          ],
          "name": "stderr"
        }
      ]
    },
    {
      "cell_type": "code",
      "metadata": {
        "colab": {
          "base_uri": "https://localhost:8080/"
        },
        "id": "xGh3a2vNLO3l",
        "outputId": "9fac78fd-c5b1-4b9e-eeed-f3bd70b53e87"
      },
      "source": [
        "nltk.download('punkt')"
      ],
      "execution_count": null,
      "outputs": [
        {
          "output_type": "stream",
          "text": [
            "[nltk_data] Downloading package punkt to /root/nltk_data...\n",
            "[nltk_data]   Unzipping tokenizers/punkt.zip.\n"
          ],
          "name": "stdout"
        },
        {
          "output_type": "execute_result",
          "data": {
            "text/plain": [
              "True"
            ]
          },
          "metadata": {
            "tags": []
          },
          "execution_count": 12
        }
      ]
    },
    {
      "cell_type": "code",
      "metadata": {
        "id": "Rds8q9OeFXHD"
      },
      "source": [
        "# Using TF-IDF\r\n",
        "tf_idf_vect = TfidfVectorizer(ngram_range=(1,2), min_df=10)\r\n",
        "count_vect = CountVectorizer()\r\n",
        "vect=tf_idf_vect.fit_transform(preprocessed_text)"
      ],
      "execution_count": null,
      "outputs": []
    },
    {
      "cell_type": "code",
      "metadata": {
        "id": "X8s7HMTKF71e",
        "colab": {
          "base_uri": "https://localhost:8080/"
        },
        "outputId": "7adc21bf-0f28-4d36-ebda-8e31da7071c9"
      },
      "source": [
        "#Using Bag-of-Words\r\n",
        "count_vect = CountVectorizer() #in scikit-learn\r\n",
        "count_vect.fit(preprocessed_text)\r\n",
        "print(\"some feature names \", count_vect.get_feature_names()[:10])\r\n",
        "print('='*50)\r\n",
        "\r\n",
        "final_counts = count_vect.transform(preprocessed_text)\r\n",
        "print(\"the type of count vectorizer \",type(final_counts))\r\n",
        "print(\"the shape of out text BOW vectorizer \",final_counts.get_shape())\r\n",
        "print(\"the number of unique words \", final_counts.get_shape()[1])"
      ],
      "execution_count": null,
      "outputs": [
        {
          "output_type": "stream",
          "text": [
            "some feature names  ['aa', 'aaaaaaaand', 'aaaaaand', 'aaaaand', 'aaand', 'aaarrrrrrrrrgggggg', 'aaawww', 'aaihs', 'aaliyahhaughton', 'aashaaa']\n",
            "==================================================\n",
            "the type of count vectorizer  <class 'scipy.sparse.csr.csr_matrix'>\n",
            "the shape of out text BOW vectorizer  (10000, 15035)\n",
            "the number of unique words  15035\n"
          ],
          "name": "stdout"
        }
      ]
    },
    {
      "cell_type": "code",
      "metadata": {
        "id": "8T6naVSbF_RJ"
      },
      "source": [
        "#Splitting the data\r\n",
        "X_train_tfidf, X_test_tfidf, y_train_tfidf, y_test_tfidf = train_test_split(vect, df['account_category_int'], test_size=0.33, random_state=42)\r\n",
        "X_train_bow, X_test_bow, y_train_bow, y_test_bow = train_test_split(final_counts, df['account_category_int'], test_size=0.33, random_state=42)"
      ],
      "execution_count": null,
      "outputs": []
    },
    {
      "cell_type": "markdown",
      "metadata": {
        "id": "rE91O-rnWArJ"
      },
      "source": [
        "**Finding Accuracy with Bag-of-Words**"
      ]
    },
    {
      "cell_type": "code",
      "metadata": {
        "id": "xXtKPC7NJyA0",
        "colab": {
          "base_uri": "https://localhost:8080/"
        },
        "outputId": "87a2ef8f-1b5c-4bff-d27c-41d601a15df7"
      },
      "source": [
        "X_train_bow.shape, X_test_bow.shape, y_train_bow.shape, y_test_bow.shape"
      ],
      "execution_count": null,
      "outputs": [
        {
          "output_type": "execute_result",
          "data": {
            "text/plain": [
              "((6700, 15035), (3300, 15035), (6700,), (3300,))"
            ]
          },
          "metadata": {
            "tags": []
          },
          "execution_count": 21
        }
      ]
    },
    {
      "cell_type": "code",
      "metadata": {
        "colab": {
          "base_uri": "https://localhost:8080/"
        },
        "id": "opygwjZcygYQ",
        "outputId": "7e464154-3379-4cc8-e91b-0f09aacb2107"
      },
      "source": [
        "X_train_tfidf.shape, X_test_tfidf.shape, y_train_tfidf.shape, y_test_tfidf.shape"
      ],
      "execution_count": null,
      "outputs": [
        {
          "output_type": "execute_result",
          "data": {
            "text/plain": [
              "((6700, 1451), (3300, 1451), (6700,), (3300,))"
            ]
          },
          "metadata": {
            "tags": []
          },
          "execution_count": 22
        }
      ]
    },
    {
      "cell_type": "code",
      "metadata": {
        "id": "89wNG28YGEQI",
        "colab": {
          "base_uri": "https://localhost:8080/"
        },
        "outputId": "0fac6862-cf1a-47f1-94c1-f307d8d8e6be"
      },
      "source": [
        "# Random Forest(BagofWords)\r\n",
        "classifier =  RandomForestClassifier(n_estimators=50, verbose=True)\r\n",
        "classifier.fit(X_train_bow, y_train_bow)\r\n",
        "y_pred_bow = classifier.predict(X_test_bow)\r\n",
        "report_bow = classification_report(y_test_bow, y_pred_bow)\r\n",
        "acc = accuracy_score(y_test_bow,y_pred_bow) "
      ],
      "execution_count": null,
      "outputs": [
        {
          "output_type": "stream",
          "text": [
            "[Parallel(n_jobs=1)]: Using backend SequentialBackend with 1 concurrent workers.\n",
            "[Parallel(n_jobs=1)]: Done  50 out of  50 | elapsed:    8.4s finished\n",
            "[Parallel(n_jobs=1)]: Using backend SequentialBackend with 1 concurrent workers.\n",
            "[Parallel(n_jobs=1)]: Done  50 out of  50 | elapsed:    0.2s finished\n",
            "/usr/local/lib/python3.6/dist-packages/sklearn/metrics/_classification.py:1272: UndefinedMetricWarning: Precision and F-score are ill-defined and being set to 0.0 in labels with no predicted samples. Use `zero_division` parameter to control this behavior.\n",
            "  _warn_prf(average, modifier, msg_start, len(result))\n"
          ],
          "name": "stderr"
        }
      ]
    },
    {
      "cell_type": "code",
      "metadata": {
        "colab": {
          "base_uri": "https://localhost:8080/"
        },
        "id": "SQ4p-63zx2Xz",
        "outputId": "1acd77b3-188b-4cf9-e3a1-bf241b2e297b"
      },
      "source": [
        "print(report_bow)\r\n",
        "print(\"Random Classifier Accuracy: \", acc*100,\"%\")"
      ],
      "execution_count": null,
      "outputs": [
        {
          "output_type": "stream",
          "text": [
            "              precision    recall  f1-score   support\n",
            "\n",
            "           1       1.00      0.46      0.63        48\n",
            "           2       0.99      0.72      0.84       302\n",
            "           3       0.87      0.98      0.92      2386\n",
            "           4       0.00      0.00      0.00         1\n",
            "           5       0.11      0.06      0.08        32\n",
            "           6       0.88      0.57      0.69       531\n",
            "\n",
            "    accuracy                           0.87      3300\n",
            "   macro avg       0.64      0.47      0.53      3300\n",
            "weighted avg       0.87      0.87      0.86      3300\n",
            "\n",
            "Random Classifier Accuracy:  87.30303030303031 %\n"
          ],
          "name": "stdout"
        }
      ]
    },
    {
      "cell_type": "code",
      "metadata": {
        "id": "VbXlVbicdcvv",
        "colab": {
          "base_uri": "https://localhost:8080/"
        },
        "outputId": "3eb7cac3-ec52-4fdf-fd60-ee91f6e013c2"
      },
      "source": [
        "#Logistic Regression BoW\r\n",
        "lreg_bow=LogisticRegression()\r\n",
        "lreg_bow.fit(X_train_bow,y_train_bow)\r\n",
        "y_pred_bow = lreg_bow.predict(X_test_bow)\r\n",
        "report_bow = classification_report(y_test_bow, y_pred_bow)\r\n",
        "acc = accuracy_score(y_test_bow,y_pred_bow)\r\n"
      ],
      "execution_count": null,
      "outputs": [
        {
          "output_type": "stream",
          "text": [
            "/usr/local/lib/python3.6/dist-packages/sklearn/metrics/_classification.py:1272: UndefinedMetricWarning: Precision and F-score are ill-defined and being set to 0.0 in labels with no predicted samples. Use `zero_division` parameter to control this behavior.\n",
            "  _warn_prf(average, modifier, msg_start, len(result))\n"
          ],
          "name": "stderr"
        }
      ]
    },
    {
      "cell_type": "code",
      "metadata": {
        "colab": {
          "base_uri": "https://localhost:8080/"
        },
        "id": "huu8z5-Kzqz6",
        "outputId": "22437359-aa97-4634-dc18-a99c31e06b5c"
      },
      "source": [
        "print(report_bow)\r\n",
        "print(\"Logistic Regression Accuracy: \", acc*100,\"%\")"
      ],
      "execution_count": null,
      "outputs": [
        {
          "output_type": "stream",
          "text": [
            "              precision    recall  f1-score   support\n",
            "\n",
            "           1       1.00      0.40      0.57        48\n",
            "           2       0.99      0.67      0.80       302\n",
            "           3       0.86      0.98      0.92      2386\n",
            "           4       0.00      0.00      0.00         1\n",
            "           5       0.00      0.00      0.00        32\n",
            "           6       0.82      0.57      0.67       531\n",
            "\n",
            "    accuracy                           0.86      3300\n",
            "   macro avg       0.61      0.43      0.49      3300\n",
            "weighted avg       0.86      0.86      0.85      3300\n",
            "\n",
            "Logistic Regression Accuracy:  86.45454545454545 %\n"
          ],
          "name": "stdout"
        }
      ]
    },
    {
      "cell_type": "code",
      "metadata": {
        "colab": {
          "base_uri": "https://localhost:8080/"
        },
        "id": "AVn11IyyNFZ2",
        "outputId": "217dff29-d1b0-4dbf-e2ed-c3d4ea09d058"
      },
      "source": [
        "#SVM BOW\r\n",
        "clf_svm = SVC(verbose=True)\r\n",
        "clf_svm.fit(X_train_bow,y_train_bow)\r\n",
        "y_pred_bow = clf_svm.predict(X_test_bow)\r\n",
        "report_svm = classification_report(y_test_bow,y_pred_bow)\r\n",
        "# print(report_svm)\r\n",
        "acc_svm = accuracy_score(y_test_bow,y_pred_bow)"
      ],
      "execution_count": null,
      "outputs": [
        {
          "output_type": "stream",
          "text": [
            "[LibSVM]"
          ],
          "name": "stdout"
        },
        {
          "output_type": "stream",
          "text": [
            "/usr/local/lib/python3.6/dist-packages/sklearn/metrics/_classification.py:1272: UndefinedMetricWarning: Precision and F-score are ill-defined and being set to 0.0 in labels with no predicted samples. Use `zero_division` parameter to control this behavior.\n",
            "  _warn_prf(average, modifier, msg_start, len(result))\n"
          ],
          "name": "stderr"
        }
      ]
    },
    {
      "cell_type": "code",
      "metadata": {
        "colab": {
          "base_uri": "https://localhost:8080/"
        },
        "id": "T2rCu3EBNJWy",
        "outputId": "6bdf3db5-7dc5-4aaf-bc92-549dff13e468"
      },
      "source": [
        "print(report_svm)\r\n",
        "print(\"SVM Accuracy: \", acc_svm*100,\"%\")"
      ],
      "execution_count": null,
      "outputs": [
        {
          "output_type": "stream",
          "text": [
            "              precision    recall  f1-score   support\n",
            "\n",
            "           1       1.00      0.40      0.57        48\n",
            "           2       1.00      0.55      0.71       302\n",
            "           3       0.80      1.00      0.89      2386\n",
            "           4       0.00      0.00      0.00         1\n",
            "           5       0.00      0.00      0.00        32\n",
            "           6       0.97      0.27      0.42       531\n",
            "\n",
            "    accuracy                           0.82      3300\n",
            "   macro avg       0.63      0.37      0.43      3300\n",
            "weighted avg       0.84      0.82      0.78      3300\n",
            "\n",
            "SVM Accuracy:  82.0909090909091 %\n"
          ],
          "name": "stdout"
        }
      ]
    },
    {
      "cell_type": "markdown",
      "metadata": {
        "id": "Nj2IC_wBWc58"
      },
      "source": [
        "**Finding Accuracy with TF-IDF**"
      ]
    },
    {
      "cell_type": "code",
      "metadata": {
        "id": "ewFyga97WlLk",
        "colab": {
          "base_uri": "https://localhost:8080/"
        },
        "outputId": "1850676e-ee71-4e1a-a023-f76cd5539bfa"
      },
      "source": [
        "X_train_tfidf.shape, X_test_tfidf.shape, y_train_tfidf.shape, y_test_tfidf.shape"
      ],
      "execution_count": null,
      "outputs": [
        {
          "output_type": "execute_result",
          "data": {
            "text/plain": [
              "((6700, 1451), (3300, 1451), (6700,), (3300,))"
            ]
          },
          "metadata": {
            "tags": []
          },
          "execution_count": 29
        }
      ]
    },
    {
      "cell_type": "code",
      "metadata": {
        "colab": {
          "base_uri": "https://localhost:8080/"
        },
        "id": "8tb9QD_F181H",
        "outputId": "616e79bd-4159-4ea1-fb81-822d1930ee66"
      },
      "source": [
        "#Applying Random Forest in TFIDF\r\n",
        "classifier_tfidf =  RandomForestClassifier(n_estimators=50, verbose=True)\r\n",
        "classifier_tfidf.fit(X_train_tfidf, y_train_tfidf)\r\n",
        "y_pred_tfidf = classifier_tfidf.predict(X_test_tfidf)\r\n",
        "report_tfidf = classification_report(y_test_tfidf, y_pred_tfidf)\r\n",
        "acc = accuracy_score(y_test_tfidf,y_pred_tfidf) "
      ],
      "execution_count": null,
      "outputs": [
        {
          "output_type": "stream",
          "text": [
            "[Parallel(n_jobs=1)]: Using backend SequentialBackend with 1 concurrent workers.\n",
            "[Parallel(n_jobs=1)]: Done  50 out of  50 | elapsed:    1.6s finished\n",
            "[Parallel(n_jobs=1)]: Using backend SequentialBackend with 1 concurrent workers.\n",
            "[Parallel(n_jobs=1)]: Done  50 out of  50 | elapsed:    0.1s finished\n",
            "/usr/local/lib/python3.6/dist-packages/sklearn/metrics/_classification.py:1272: UndefinedMetricWarning: Precision and F-score are ill-defined and being set to 0.0 in labels with no predicted samples. Use `zero_division` parameter to control this behavior.\n",
            "  _warn_prf(average, modifier, msg_start, len(result))\n"
          ],
          "name": "stderr"
        }
      ]
    },
    {
      "cell_type": "code",
      "metadata": {
        "colab": {
          "base_uri": "https://localhost:8080/"
        },
        "id": "KyFAv5Jv3G_p",
        "outputId": "8eccd29c-54ec-44a9-8ba4-cb57c082dd56"
      },
      "source": [
        "print(report_tfidf)\r\n",
        "print(\"Random Classifier Accuracy: \", acc*100,\"%\")"
      ],
      "execution_count": null,
      "outputs": [
        {
          "output_type": "stream",
          "text": [
            "              precision    recall  f1-score   support\n",
            "\n",
            "           1       1.00      0.44      0.61        48\n",
            "           2       0.91      0.72      0.80       302\n",
            "           3       0.85      0.95      0.90      2386\n",
            "           4       0.00      0.00      0.00         1\n",
            "           5       0.20      0.03      0.05        32\n",
            "           6       0.72      0.49      0.59       531\n",
            "\n",
            "    accuracy                           0.84      3300\n",
            "   macro avg       0.61      0.44      0.49      3300\n",
            "weighted avg       0.83      0.84      0.83      3300\n",
            "\n",
            "Random Classifier Accuracy:  84.15151515151516 %\n"
          ],
          "name": "stdout"
        }
      ]
    },
    {
      "cell_type": "code",
      "metadata": {
        "colab": {
          "base_uri": "https://localhost:8080/"
        },
        "id": "cXFIvhjR3zBb",
        "outputId": "5a3e1328-21fa-4fdd-9009-2be591f79ef5"
      },
      "source": [
        "#Logistic Regression TFIDF\r\n",
        "lreg_tfidf=LogisticRegression()\r\n",
        "lreg_tfidf.fit(X_train_tfidf,y_train_tfidf)\r\n",
        "y_pred_tfidf = lreg_tfidf.predict(X_test_tfidf)\r\n",
        "report_tfidf = classification_report(y_test_tfidf, y_pred_tfidf)\r\n",
        "acc = accuracy_score(y_test_tfidf,y_pred_tfidf)"
      ],
      "execution_count": null,
      "outputs": [
        {
          "output_type": "stream",
          "text": [
            "/usr/local/lib/python3.6/dist-packages/sklearn/metrics/_classification.py:1272: UndefinedMetricWarning: Precision and F-score are ill-defined and being set to 0.0 in labels with no predicted samples. Use `zero_division` parameter to control this behavior.\n",
            "  _warn_prf(average, modifier, msg_start, len(result))\n"
          ],
          "name": "stderr"
        }
      ]
    },
    {
      "cell_type": "code",
      "metadata": {
        "colab": {
          "base_uri": "https://localhost:8080/"
        },
        "id": "lZVPuF4k3y1N",
        "outputId": "2cf8ea70-2d80-4885-ae09-9449297f5f3a"
      },
      "source": [
        "print(report_tfidf)\r\n",
        "print(\"Logistic Regression Accuracy: \", acc*100,\"%\")"
      ],
      "execution_count": null,
      "outputs": [
        {
          "output_type": "stream",
          "text": [
            "              precision    recall  f1-score   support\n",
            "\n",
            "           1       1.00      0.33      0.50        48\n",
            "           2       1.00      0.61      0.76       302\n",
            "           3       0.83      0.98      0.90      2386\n",
            "           4       0.00      0.00      0.00         1\n",
            "           5       0.00      0.00      0.00        32\n",
            "           6       0.83      0.41      0.55       531\n",
            "\n",
            "    accuracy                           0.84      3300\n",
            "   macro avg       0.61      0.39      0.45      3300\n",
            "weighted avg       0.84      0.84      0.82      3300\n",
            "\n",
            "Logistic Regression Accuracy:  83.87878787878788 %\n"
          ],
          "name": "stdout"
        }
      ]
    },
    {
      "cell_type": "code",
      "metadata": {
        "colab": {
          "base_uri": "https://localhost:8080/"
        },
        "id": "X9fLX1EC4lur",
        "outputId": "5e62844a-b188-4f43-8534-aef1b7c37173"
      },
      "source": [
        "#SVM TFIDF\r\n",
        "clf_svm_tfidf = SVC(verbose=True)\r\n",
        "clf_svm_tfidf.fit(X_train_tfidf,y_train_tfidf)\r\n",
        "y_pred_tfidf = clf_svm_tfidf.predict(X_test_tfidf)\r\n",
        "report_svm_tfidf = classification_report(y_test_tfidf,y_pred_tfidf)\r\n",
        "# print(report_svm)\r\n",
        "acc_svm_tfidf = accuracy_score(y_test_tfidf,y_pred_tfidf)\r\n"
      ],
      "execution_count": null,
      "outputs": [
        {
          "output_type": "stream",
          "text": [
            "[LibSVM]"
          ],
          "name": "stdout"
        },
        {
          "output_type": "stream",
          "text": [
            "/usr/local/lib/python3.6/dist-packages/sklearn/metrics/_classification.py:1272: UndefinedMetricWarning: Precision and F-score are ill-defined and being set to 0.0 in labels with no predicted samples. Use `zero_division` parameter to control this behavior.\n",
            "  _warn_prf(average, modifier, msg_start, len(result))\n"
          ],
          "name": "stderr"
        }
      ]
    },
    {
      "cell_type": "code",
      "metadata": {
        "colab": {
          "base_uri": "https://localhost:8080/"
        },
        "id": "Co4LpQY14lk5",
        "outputId": "ce550dc8-201d-4758-bd9a-940f3d4ccf2b"
      },
      "source": [
        "print(report_svm_tfidf)\r\n",
        "print(\"Logistic Regression Accuracy: \", acc_svm_tfidf*100,\"%\")"
      ],
      "execution_count": null,
      "outputs": [
        {
          "output_type": "stream",
          "text": [
            "              precision    recall  f1-score   support\n",
            "\n",
            "           1       1.00      0.42      0.59        48\n",
            "           2       1.00      0.63      0.77       302\n",
            "           3       0.82      0.99      0.90      2386\n",
            "           4       0.00      0.00      0.00         1\n",
            "           5       0.00      0.00      0.00        32\n",
            "           6       0.90      0.35      0.50       531\n",
            "\n",
            "    accuracy                           0.84      3300\n",
            "   macro avg       0.62      0.40      0.46      3300\n",
            "weighted avg       0.84      0.84      0.81      3300\n",
            "\n",
            "Logistic Regression Accuracy:  83.75757575757575 %\n"
          ],
          "name": "stdout"
        }
      ]
    },
    {
      "cell_type": "code",
      "metadata": {
        "id": "1OqtJjpLLr34"
      },
      "source": [
        "# Creating Pickle File\r\n",
        "#classifier\r\n",
        "file = \"transform.pkl\"\r\n",
        "fileobj = open(file,'wb')\r\n",
        "pickle.dump(classifier, fileobj)\r\n",
        "fileobj.close()"
      ],
      "execution_count": null,
      "outputs": []
    }
  ]
}